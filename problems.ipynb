{
 "nbformat": 4,
 "nbformat_minor": 2,
 "metadata": {
  "language_info": {
   "name": "python",
   "codemirror_mode": {
    "name": "ipython",
    "version": 3
   },
   "version": "3.8.1-final"
  },
  "orig_nbformat": 2,
  "file_extension": ".py",
  "mimetype": "text/x-python",
  "name": "python",
  "npconvert_exporter": "python",
  "pygments_lexer": "ipython3",
  "version": 3,
  "kernelspec": {
   "name": "python38164bitvenvvenv1757a4db17b848838d30fc45aa334645",
   "display_name": "Python 3.8.1 64-bit ('venv': venv)"
  }
 },
 "cells": [
  {
   "cell_type": "markdown",
   "metadata": {},
   "source": [
    "# 次の課題\n",
    "ここまでで、基本的な前処理、保存、視覚化について触れてきました。    \n",
    "しかしここまでの処理には幾つかの課題があります。    \n",
    "いまから幾つかの例を用いてそれを紹介していきます。"
   ]
  },
  {
   "cell_type": "markdown",
   "metadata": {},
   "source": [
    "## 文字コードの非統一\n",
    "特に絵文字などは、同じ文字を異なる文字コードで書く場合があり、これに関してはまっとうな方法では処理することが出来ません。    \n",
    "例えば、下の例では、見た目上は全く同じ絵文字ですが、文字コードが異なっており、unicode 正規化を施しても解決することが出来ません。"
   ]
  },
  {
   "cell_type": "code",
   "execution_count": 14,
   "metadata": {},
   "outputs": [
    {
     "name": "stdout",
     "output_type": "stream",
     "text": "diff:\nb'\\xe2\\x99\\xa8'\nb'\\xe2\\x99\\xa8\\xef\\xb8\\x8f'\nFalse\nFalse\n"
    }
   ],
   "source": [
    "import unicodedata\n",
    "print('diff:\\n{}\\n{}'.format('♨'.encode(), '♨️'.encode()))\n",
    "print('♨' =='♨️')\n",
    "print(unicodedata.normalize(\"NFKC\", '♨') == unicodedata.normalize(\"NFKC\", '♨️'))"
   ]
  },
  {
   "cell_type": "markdown",
   "metadata": {},
   "source": [
    "## 異音同義語\n",
    "同音異義語、というのはよく聞くと思いますが、その逆がWebページでは頻出します。    \n",
    "表記ゆれ、というのが学術的には一般的ですが、この問題はそれよりももっと範囲が広いです。    \n",
    "例えば関連単語では、先述の文字コードの非統一による複数の同じ意味の単語が現れてしまっています。    \n",
    "またそれ以外にも、絵文字の有無/漢字かな問題などで別の表記が出現しています。\n",
    "\n",
    "※漢字かな問題は、かな統一という邪道な手段がありますが、学術的には受け入れられないものです(筆者が昔取り上げたところ滅多打ちにされました)\n",
    "\n",
    "異音同義語の例    \n",
    "\n",
    "| 語1 | 語2|\n",
    "|----:|---:|\n",
    "|エクス・アルビオ|🛡エクス・アルビオ|    \n",
    "|🌶三枝明那 | 三枝明那|"
   ]
  },
  {
   "cell_type": "markdown",
   "metadata": {},
   "source": [
    "## キーワードの複合\n",
    "キーワードを \"/\" などを用いて連結させ、一つのキーワードのように振る舞うケースがあります。    \n",
    "これらを誤りなくキーワードに分解する必要がります。\n",
    "\n",
    "キーワードの複合の例\n",
    "\n",
    "| 複合されたキーワード | 分解したキーワード列 |\n",
    "|--: |--:|\n",
    "|猫/コアラ | 猫 , コアラ | \n",
    "| 動物/動物の一覧/哺乳類 | 動物 , 動物の一覧 , 哺乳類 |\n",
    "| カイル(イルカ)→お前を消す方法 | カイル(イルカ) , お前を消す方法|\n"
   ]
  },
  {
   "cell_type": "markdown",
   "metadata": {},
   "source": [
    "## 補足情報の処理\n",
    "日本語に限らず、 \"()\" のような括弧表記を用いることで単語や文について補足を行うケースが有ります。    \n",
    "これらの情報は有益ですが、キーワードとして用いるには不適切であると考えられます。\n",
    "\n",
    "補足情報が付与されたキーワードの例\n",
    "\n",
    "- ガウェイン(Fate/EXTRA)...外の人繋がり\n",
    "- えびそば(ラーメン)\n",
    "- ホウネンエビ(名前にエビと付く生き物。だが実はエビではない)\n"
   ]
  },
  {
   "cell_type": "markdown",
   "metadata": {},
   "source": []
  },
  {
   "cell_type": "code",
   "execution_count": null,
   "metadata": {},
   "outputs": [],
   "source": []
  }
 ]
}