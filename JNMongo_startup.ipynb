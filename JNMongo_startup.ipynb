{
 "cells": [
  {
   "cell_type": "markdown",
   "metadata": {
    "slideshow": {
     "slide_type": "slide"
    }
   },
   "source": [
    "# JNMongo の利用方法"
   ]
  },
  {
   "cell_type": "markdown",
   "metadata": {},
   "source": [
    "## JNMongo とはなにか\n",
    "JNMongo とは Japanese Niconico Parser with Mongo DB の略で、ニコニコ大百科のデータセットを、自然言語処理分野などの分野で用いることの出来る「知識」へと変換するためのツールです。\n",
    "\n",
    "## JNMongo の目的\n",
    "このツールを利用する、あるいはこのツールのレポジトリに対して機能を提案、追加してもらうことで知識化の知見を集め、より本研究・開発分野を発展させることがこのツールの目的です。\n"
   ]
  },
  {
   "cell_type": "markdown",
   "metadata": {},
   "source": [
    "# JNMongo を初めてみる\n",
    "まずシンプルな例として、Web上のニコニコ大百科のページを **一つ**、処理してみます。"
   ]
  },
  {
   "cell_type": "markdown",
   "metadata": {},
   "source": [
    "## 目次\n",
    "1. WebページをJSON化する\n",
    "2. JSONファイルを読み込む\n",
    "3. JSONをより細かく処理する\n",
    "    1. タイトルの抽出\n",
    "    2. キーワードの抽出\n",
    "    3. 関連項目の抽出\n",
    "    4. 概要の抽出\n",
    "    5. 記事の分割\n",
    "4. MongoDB へ保存する\n",
    "    1. タイトルを保存する\n",
    "    2. キーワードを保存する\n",
    "    2. 関連項目を保存する\n",
    "    3. 概要を保存する\n",
    "    4. 記事をセクションごとに保存する"
   ]
  },
  {
   "cell_type": "markdown",
   "metadata": {
    "toc-hr-collapsed": true,
    "toc-nb-collapsed": true
   },
   "source": [
    "## Web ページをJSON化する\n",
    "一般的なWebページの解析には、Beautiful Soup を用いることが一般的ですが、この目的では次の理由で適用が不適切であると考えられます。\n",
    "- 特定のキーワードを抽出したいわけではないため、記事全体を俯瞰したい\n",
    "- a タグのような重要なタグを逃してしまう\n",
    "\n",
    "そのため、一度 HTML を JSON 形式に変換して、アクセスと解析を容易にします。    \n",
    "JSON化するためのツールは、https://github.com/MokkeMeguru/niconico-parser　にあります。    \n",
    "この部分に関しては DSL （ドメイン特化言語）の扱いに長けた Lisp で記述しています。"
   ]
  },
  {
   "cell_type": "code",
   "execution_count": null,
   "metadata": {},
   "outputs": [],
   "source": [
    "# !lein parse-from-web -u https://dic.nicovideo.jp/a/<contents-title>"
   ]
  },
  {
   "cell_type": "markdown",
   "metadata": {},
   "source": [
    "今回は先に用意した https://github.com/MokkeMeguru/jnmongo/blob/master/三枝明那.json を用いて解析してみます。"
   ]
  },
  {
   "cell_type": "markdown",
   "metadata": {},
   "source": [
    "まずこの JSON ファイルの中身の構成を確認します。\n",
    "\n",
    "```\n",
    "--- <...>.json\n",
    " |- title            :単語そのもの\n",
    " |- title-head       :記事自体のタイトル\n",
    " |- article          :記事の中身 (ヘッダやフッタ、広告を除く)\n",
    " |- related_words    :関連項目部分\n",
    " |- keywords         :単語に関わるキーワードのリスト\n",
    "```"
   ]
  },
  {
   "cell_type": "code",
   "execution_count": 1,
   "metadata": {},
   "outputs": [
    {
     "data": {
      "text/html": "<div>\n<style scoped>\n    .dataframe tbody tr th:only-of-type {\n        vertical-align: middle;\n    }\n\n    .dataframe tbody tr th {\n        vertical-align: top;\n    }\n\n    .dataframe thead th {\n        text-align: right;\n    }\n</style>\n<table border=\"1\" class=\"dataframe\">\n  <thead>\n    <tr style=\"text-align: right;\">\n      <th></th>\n      <th>value</th>\n    </tr>\n  </thead>\n  <tbody>\n    <tr>\n      <th>title</th>\n      <td>三枝明那</td>\n    </tr>\n    <tr>\n      <th>title-head</th>\n      <td>三枝明那とは (サエグサアキナとは) [単語記事] - ニコニコ大百科</td>\n    </tr>\n    <tr>\n      <th>related_words</th>\n      <td>[[{'content': ['にじさんじ', 'ベルモンド・バンデラス（尊敬するライバー）...</td>\n    </tr>\n    <tr>\n      <th>keywords</th>\n      <td>['三枝明那', 'サエグサアキナ', 'にじさんじ', 'ショタコン', 'エクス・アルビ...</td>\n    </tr>\n    <tr>\n      <th>article</th>\n      <td>[{'content': [{'content': ['概要'], 'tag': 'li',...</td>\n    </tr>\n  </tbody>\n</table>\n</div>",
      "text/plain": "                                                           value\ntitle                                                       三枝明那\ntitle-head                   三枝明那とは (サエグサアキナとは) [単語記事] - ニコニコ大百科\nrelated_words  [[{'content': ['にじさんじ', 'ベルモンド・バンデラス（尊敬するライバー）...\nkeywords       ['三枝明那', 'サエグサアキナ', 'にじさんじ', 'ショタコン', 'エクス・アルビ...\narticle        [{'content': [{'content': ['概要'], 'tag': 'li',..."
     },
     "execution_count": 1,
     "metadata": {},
     "output_type": "execute_result"
    }
   ],
   "source": [
    "import pandas as pd\n",
    "from parse import json_parser\n",
    "from pathlib import Path\n",
    "raw_data = json_parser.read_json(Path(\"./三枝明那.json\"))\n",
    "keys = [\"title\", \"title-head\", \"related_words\", \"keywords\", \"article\"]\n",
    "\n",
    "data = {}\n",
    "for k in keys:\n",
    "    data[k] = str(raw_data[k])\n",
    "pd.DataFrame(data.values(), index=data.keys(), columns=[\"value\"])"
   ]
  },
  {
   "cell_type": "markdown",
   "metadata": {},
   "source": [
    "## JSONデータを更にパースする\n",
    "JSON化したデータを更に細かく分離して扱いやすくします。"
   ]
  },
  {
   "cell_type": "markdown",
   "metadata": {},
   "source": [
    "### タイトルの抽出"
   ]
  },
  {
   "cell_type": "code",
   "execution_count": 3,
   "metadata": {},
   "outputs": [
    {
     "data": {
      "text/plain": "'三枝明那'"
     },
     "execution_count": 3,
     "metadata": {},
     "output_type": "execute_result"
    }
   ],
   "source": [
    "from service import utils\n",
    "title = utils.get_element(raw_data, \"title\")\n",
    "title"
   ]
  },
  {
   "cell_type": "markdown",
   "metadata": {},
   "source": [
    "### キーワードの抽出\n",
    "その単語に関連するキーワードを抽出します。"
   ]
  },
  {
   "cell_type": "code",
   "execution_count": 4,
   "metadata": {},
   "outputs": [
    {
     "data": {
      "text/plain": "['三枝明那', 'サエグサアキナ', 'にじさんじ', 'ショタコン', 'エクス・アルビオ', 'コラボ', 'デビュー', '愛園愛美']"
     },
     "execution_count": 4,
     "metadata": {},
     "output_type": "execute_result"
    }
   ],
   "source": [
    "keywords = utils.get_element(raw_data, \"keywords\", message=\"this article has no keywords\")\n",
    "keywords"
   ]
  },
  {
   "cell_type": "markdown",
   "metadata": {},
   "source": [
    "### 関連項目の抽出\n",
    "関連項目は、語のリストとして抽出する場合が便利ですが、テーブル構造情報などを用いることでより高品質な情報を抽出できる可能性があります。"
   ]
  },
  {
   "cell_type": "code",
   "execution_count": 5,
   "metadata": {},
   "outputs": [
    {
     "data": {
      "text/html": "<div>\n<style scoped>\n    .dataframe tbody tr th:only-of-type {\n        vertical-align: middle;\n    }\n\n    .dataframe tbody tr th {\n        vertical-align: top;\n    }\n\n    .dataframe thead th {\n        text-align: right;\n    }\n</style>\n<table border=\"1\" class=\"dataframe\">\n  <thead>\n    <tr style=\"text-align: right;\">\n      <th></th>\n      <th>value</th>\n    </tr>\n  </thead>\n  <tbody>\n    <tr>\n      <th>raw</th>\n      <td>[[{'content': ['にじさんじ', 'ベルモンド・バンデラス（尊敬するライバー）...</td>\n    </tr>\n    <tr>\n      <th>extract</th>\n      <td>['いちから株式会社', '📷瀬戸美夜子', '🍹戌亥とこ', '「にじさんじ」2019年上...</td>\n    </tr>\n    <tr>\n      <th>#related_words</th>\n      <td>32</td>\n    </tr>\n  </tbody>\n</table>\n</div>",
      "text/plain": "                                                            value\nraw             [[{'content': ['にじさんじ', 'ベルモンド・バンデラス（尊敬するライバー）...\nextract         ['いちから株式会社', '📷瀬戸美夜子', '🍹戌亥とこ', '「にじさんじ」2019年上...\n#related_words                                                 32"
     },
     "execution_count": 5,
     "metadata": {},
     "output_type": "execute_result"
    }
   ],
   "source": [
    "from service import related_words\n",
    "raw_related_words, related_words = related_words.extract_item(raw_data)\n",
    "\n",
    "data = {\n",
    "    \"raw\": str(raw_related_words),\n",
    "    \"extract\": str(related_words[:5]),\n",
    "    \"#related_words\": len(related_words)\n",
    "}\n",
    "pd.DataFrame(data.values(), index=data.keys(), columns=[\"value\"])"
   ]
  },
  {
   "cell_type": "markdown",
   "metadata": {},
   "source": [
    "### 概要の抽出\n",
    "記事のはじめと <概要> 部にある内容は、その単語の概要になっています。    \n",
    "残りは left として次の処理に回します。"
   ]
  },
  {
   "cell_type": "code",
   "execution_count": 6,
   "metadata": {},
   "outputs": [
    {
     "data": {
      "text/plain": "\"[['三枝明那（さえぐさ あきな）とは、いちから株式会社が運営する「にじさんじ」所属のバーチャルライバーである。'], {'content': ['概要'], 'tag': 'h2', 'attrs': {'id': 'h2-1'}, 'type': 'element'}, [{'content': [{'content': [{'content': [{'content': ['バーチャルライバ...\""
     },
     "execution_count": 6,
     "metadata": {},
     "output_type": "execute_result"
    }
   ],
   "source": [
    "from service import absts\n",
    "article = utils.get_element(raw_data, \"article\", message=\"this article has no body\")\n",
    "abstruct, _, left = absts.extract_abstruct(article)\n",
    "str(abstruct)[:200]+\"...\""
   ]
  },
  {
   "cell_type": "markdown",
   "metadata": {},
   "source": [
    "### 記事の分割\n",
    "残りの記事 left を項目 (section) ごとに分割しておきます。    \n",
    "こうすることで、問題を SQuAD タスクなどで実現可能なレベルの文字長に落ち着かせることが出来ます。    \n",
    "\n",
    "それぞれ項目のタイトルは階層構造になっている場合を考え、リストになっています。\n",
    "\n",
    "e.g.\n",
    "```\n",
    "<h2>hoge</h2>\n",
    "  <p>body1</p>\n",
    "  <h3>bar</h3>\n",
    "    <p>body2</p>\n",
    "<h2>foo<h2>\n",
    "  <h2>boo</h2>\n",
    "```\n",
    "⇒\n",
    "```\n",
    "hoge               ... [hoge]\n",
    "  |- body1\n",
    "  |- bar           ... [hoge, bar]\n",
    "      |- body2\n",
    "foo                ... [foo]\n",
    "  |- boo\n",
    "```"
   ]
  },
  {
   "cell_type": "code",
   "execution_count": 7,
   "metadata": {},
   "outputs": [
    {
     "data": {
      "text/html": "<div>\n<style scoped>\n    .dataframe tbody tr th:only-of-type {\n        vertical-align: middle;\n    }\n\n    .dataframe tbody tr th {\n        vertical-align: top;\n    }\n\n    .dataframe thead th {\n        text-align: right;\n    }\n</style>\n<table border=\"1\" class=\"dataframe\">\n  <thead>\n    <tr style=\"text-align: right;\">\n      <th></th>\n      <th>value</th>\n    </tr>\n  </thead>\n  <tbody>\n    <tr>\n      <th>['関連リンク']</th>\n      <td>[{'content': [{'content': ['三枝明那 – にじさんじ 公式サイト...</td>\n    </tr>\n    <tr>\n      <th>['関連項目']</th>\n      <td>[{'content': [{'content': ['にじさんじ'], 'tag': 'l...</td>\n    </tr>\n    <tr>\n      <th>['脚注']</th>\n      <td>[{'content': [{'content': ['*そもそも出演の経緯は彼女も誤って「...</td>\n    </tr>\n  </tbody>\n</table>\n</div>",
      "text/plain": "                                                       value\n['関連リンク']  [{'content': [{'content': ['三枝明那 – にじさんじ 公式サイト...\n['関連項目']   [{'content': [{'content': ['にじさんじ'], 'tag': 'l...\n['脚注']     [{'content': [{'content': ['*そもそも出演の経緯は彼女も誤って「..."
     },
     "execution_count": 7,
     "metadata": {},
     "output_type": "execute_result"
    }
   ],
   "source": [
    "from service import contents\n",
    "sections, _ = contents.SectionParser()(left)\n",
    "\n",
    "data = {}\n",
    "for i, sec in enumerate(sections):\n",
    "    data[str(sec.titles)] = str(sec.contents)\n",
    "pd.DataFrame(data.values(), index=data.keys(), columns=[\"value\"])"
   ]
  },
  {
   "cell_type": "markdown",
   "metadata": {},
   "source": [
    "# MongoDB へ保存する\n",
    "解析したものを MongoDB へ保存します。\n",
    "MongoDB を用いている理由は、データの形式がJSONであることとの親和性が主な理由です。\n",
    "\n",
    "**required** : MongoDB のセットアップ"
   ]
  },
  {
   "cell_type": "markdown",
   "metadata": {},
   "source": [
    "### PyMongo の準備\n",
    "MongoDB との接続は Python を用いたいために、 PyMongo を用います。Python ↔ MongoDB の接続を次のようにして確立します。    "
   ]
  },
  {
   "cell_type": "code",
   "execution_count": 8,
   "metadata": {},
   "outputs": [],
   "source": [
    "from getpass import getpass\n",
    "from pymongo import MongoClient\n",
    "\n",
    "password = getpass()\n",
    "username = 'root'\n",
    "client = MongoClient(host=\"127.0.0.1\",\n",
    "                    port=27017,\n",
    "                    username=username,\n",
    "                    password=password)"
   ]
  },
  {
   "cell_type": "markdown",
   "metadata": {},
   "source": [
    "次に、それぞれの保存先 (Collection) への接続を補助するクライアントインスタンスを作ります。   \n",
    "初回時 (or reset 時) には、それぞれの保存先が空であることが保証されています。"
   ]
  },
  {
   "cell_type": "code",
   "execution_count": 9,
   "metadata": {},
   "outputs": [],
   "source": [
    "from boundary.absts import Abst\n",
    "from boundary.contents import Content\n",
    "from boundary.dockeywords import DocKeywords\n",
    "from boundary.keywords import Keyword\n",
    "from boundary.related_words import Related_Words\n",
    "abst_db = Abst(client)\n",
    "content_db = Content(client)\n",
    "keyword_db = Keyword(client)\n",
    "dockeywords_db = DocKeywords(client)\n",
    "relatedwords_db = Related_Words(client)\n",
    "abst_db.reset()\n",
    "content_db.reset()\n",
    "keyword_db.reset()\n",
    "dockeywords_db.reset()\n",
    "relatedwords_db.reset()"
   ]
  },
  {
   "cell_type": "code",
   "execution_count": 10,
   "metadata": {},
   "outputs": [
    {
     "data": {
      "text/html": "<div>\n<style scoped>\n    .dataframe tbody tr th:only-of-type {\n        vertical-align: middle;\n    }\n\n    .dataframe tbody tr th {\n        vertical-align: top;\n    }\n\n    .dataframe thead th {\n        text-align: right;\n    }\n</style>\n<table border=\"1\" class=\"dataframe\">\n  <thead>\n    <tr style=\"text-align: right;\">\n      <th></th>\n      <th>value</th>\n    </tr>\n  </thead>\n  <tbody>\n    <tr>\n      <th>abst</th>\n      <td>[]</td>\n    </tr>\n    <tr>\n      <th>content_db</th>\n      <td>[]</td>\n    </tr>\n    <tr>\n      <th>keyword_db</th>\n      <td>[]</td>\n    </tr>\n    <tr>\n      <th>keywords_by_document_db</th>\n      <td>[]</td>\n    </tr>\n    <tr>\n      <th>relatedwords_db</th>\n      <td>[]</td>\n    </tr>\n  </tbody>\n</table>\n</div>",
      "text/plain": "                        value\nabst                       []\ncontent_db                 []\nkeyword_db                 []\nkeywords_by_document_db    []\nrelatedwords_db            []"
     },
     "execution_count": 10,
     "metadata": {},
     "output_type": "execute_result"
    }
   ],
   "source": [
    "data = {\n",
    "    \"abst\": str(abst_db.all),\n",
    "    \"content_db\" : str(content_db.all),\n",
    "    \"keyword_db\": str(keyword_db.all),\n",
    "    \"keywords_by_document_db\": str(dockeywords_db.all),\n",
    "    \"relatedwords_db\": str(relatedwords_db.all)\n",
    "}\n",
    "pd.DataFrame(data.values(), index=data.keys(), columns=[\"value\"])"
   ]
  },
  {
   "cell_type": "markdown",
   "metadata": {
    "toc-hr-collapsed": true,
    "toc-nb-collapsed": true
   },
   "source": [
    "## タイトルを保存する\n",
    "タイトルやキーワード、などの単語に当たるものは全て、同一の ObjectId で管理します。こうすることで検索性能が向上します。"
   ]
  },
  {
   "cell_type": "code",
   "execution_count": 11,
   "metadata": {},
   "outputs": [
    {
     "name": "stdout",
     "output_type": "stream",
     "text": "三枝明那 -> 5e65995bbec0480af8aee950\n"
    }
   ],
   "source": [
    "keyword_db.insert(title)\n",
    "print(\"{} -> {}\".format(title, keyword_db.find_object(title)))"
   ]
  },
  {
   "cell_type": "markdown",
   "metadata": {
    "toc-hr-collapsed": true,
    "toc-nb-collapsed": true
   },
   "source": [
    "## キーワードを保存する"
   ]
  },
  {
   "cell_type": "code",
   "execution_count": 12,
   "metadata": {},
   "outputs": [
    {
     "data": {
      "text/plain": "[{'_id': ObjectId('5e65995bbec0480af8aee950'),\n  'keyword': '三枝明那',\n  'insertion_date': datetime.datetime(2020, 3, 9, 1, 18, 19, 255000),\n  'last_update_date': datetime.datetime(2020, 3, 9, 1, 18, 20, 917000),\n  'reference': 2},\n {'_id': ObjectId('5e65995cbec0480af8aee956'),\n  'keyword': 'サエグサアキナ',\n  'insertion_date': datetime.datetime(2020, 3, 9, 1, 18, 20, 918000),\n  'last_update_date': datetime.datetime(2020, 3, 9, 1, 18, 20, 918000),\n  'reference': 1}]"
     },
     "execution_count": 12,
     "metadata": {},
     "output_type": "execute_result"
    }
   ],
   "source": [
    "for keyword in keywords:\n",
    "    keyword_db.insert(keyword)\n",
    "keyword_db.all[:2]"
   ]
  },
  {
   "cell_type": "markdown",
   "metadata": {},
   "source": [
    "これらのキーワードは特定の単語タイトルについて紐付けられているので、このリレーションも保存します。"
   ]
  },
  {
   "cell_type": "code",
   "execution_count": 13,
   "metadata": {},
   "outputs": [],
   "source": [
    "for keyword in keywords:\n",
    "    dockeywords_db.insert(\n",
    "        keyword_db.find_object(title),\n",
    "        keyword_db.find_object(keyword)\n",
    "   )"
   ]
  },
  {
   "cell_type": "code",
   "execution_count": 16,
   "metadata": {},
   "outputs": [
    {
     "data": {
      "text/plain": "[{'_id': ObjectId('5e65995bbec0480af8aee950'),\n  'insertion_date': datetime.datetime(2020, 3, 9, 1, 18, 24, 471000),\n  'keywords': [ObjectId('5e65995bbec0480af8aee950'),\n   ObjectId('5e65995cbec0480af8aee956'),\n   ObjectId('5e65995cbec0480af8aee959'),\n   ObjectId('5e65995cbec0480af8aee95c'),\n   ObjectId('5e65995cbec0480af8aee95f'),\n   ObjectId('5e65995cbec0480af8aee962'),\n   ObjectId('5e65995cbec0480af8aee965'),\n   ObjectId('5e65995cbec0480af8aee968')],\n  'last_update_date': datetime.datetime(2020, 3, 9, 1, 18, 24, 480000)}]"
     },
     "execution_count": 16,
     "metadata": {},
     "output_type": "execute_result"
    }
   ],
   "source": [
    "dockeywords_db.all"
   ]
  },
  {
   "cell_type": "markdown",
   "metadata": {},
   "source": [
    "## 関連項目を保存する"
   ]
  },
  {
   "cell_type": "code",
   "execution_count": 14,
   "metadata": {},
   "outputs": [
    {
     "data": {
      "text/plain": "<pymongo.results.UpdateResult at 0x7f7d422ca700>"
     },
     "execution_count": 14,
     "metadata": {},
     "output_type": "execute_result"
    }
   ],
   "source": [
    "for word in related_words:\n",
    "    keyword_db.insert(word)\n",
    "    \n",
    "relatedwords_db.insert(\n",
    "    keyword_db.find_object(title),\n",
    "    [keyword_db.find_object(word) for word in related_words],\n",
    "    raw_related_words)"
   ]
  },
  {
   "cell_type": "code",
   "execution_count": 15,
   "metadata": {},
   "outputs": [
    {
     "data": {
      "text/plain": "[{'_id': ObjectId('5e65995bbec0480af8aee950'),\n  'contents': [[{'content': ['にじさんじ',\n      'ベルモンド・バンデラス（尊敬するライバー）',\n      '鈴鹿詩子/海夜叉神/轟京子（歴代のショタコンライバー）',\n      '愛園愛美（一緒にデビューした同期生にしてコンビ『紅ズワイガニ』の相方）',\n      '青道アカト（煩い同業者繋がり）',\n      'Ni-na（同じく目標が日本武道館）',\n      '日本武道館',\n      'ショタコン/腐男子',\n      '堀内健',\n      '紅生姜/赤唐辛子',\n      'バーチャルYouTuber',\n      'いちから株式会社'],\n     'tag': 'ul'},\n    {'content': [{'content': [{'content': ['「にじさんじ」2019年上期加入ライバー'],\n         'tag': 'tr'},\n        {'content': ['🐺童田明治', '🧠久遠千歳', '🐽郡道美玲'], 'tag': 'tr'},\n        {'content': ['🌖夢月ロア', '♨小野町春香', '🧂語部紡'], 'tag': 'tr'},\n        {'content': ['📷瀬戸美夜子', '🏰御伽原江良', '🍹戌亥とこ'], 'tag': 'tr'},\n        {'content': ['⚖アンジュ・カトリーナ', '👑リゼ・ヘルエスタ', '🌶三枝明那'], 'tag': 'tr'},\n        {'content': ['💕愛園愛美', '🎨鈴原るる', '🌐雪城眞尋'], 'tag': 'tr'},\n        {'content': ['🛡エクス・アルビオ', '🔲レヴィ・エリファ', '🍃葉山舞鈴'], 'tag': 'tr'},\n        {'content': ['🎃ニュイ・ソシエール'], 'tag': 'tr'}],\n       'tag': 'tbody'}],\n     'tag': 'table'}]],\n  'insertion_date': datetime.datetime(2020, 3, 9, 1, 18, 36, 460000),\n  'words': [ObjectId('5e65996cbec0480af8aee985'),\n   ObjectId('5e65996cbec0480af8aee988'),\n   ObjectId('5e65996cbec0480af8aee98b'),\n   ObjectId('5e65996cbec0480af8aee98e'),\n   ObjectId('5e65996cbec0480af8aee991'),\n   ObjectId('5e65996cbec0480af8aee994'),\n   ObjectId('5e65996cbec0480af8aee997'),\n   ObjectId('5e65996cbec0480af8aee99a'),\n   ObjectId('5e65996cbec0480af8aee99d'),\n   ObjectId('5e65996cbec0480af8aee9a0'),\n   ObjectId('5e65996cbec0480af8aee9a3'),\n   ObjectId('5e65996cbec0480af8aee9a6'),\n   ObjectId('5e65996cbec0480af8aee9a9'),\n   ObjectId('5e65996cbec0480af8aee9ac'),\n   ObjectId('5e65996cbec0480af8aee9af'),\n   ObjectId('5e65996cbec0480af8aee9b2'),\n   ObjectId('5e65996cbec0480af8aee9b5'),\n   ObjectId('5e65996cbec0480af8aee9b8'),\n   ObjectId('5e65996cbec0480af8aee9bb'),\n   ObjectId('5e65996cbec0480af8aee9be'),\n   ObjectId('5e65996cbec0480af8aee9c1'),\n   ObjectId('5e65996cbec0480af8aee9c4'),\n   ObjectId('5e65996cbec0480af8aee9c7'),\n   ObjectId('5e65996cbec0480af8aee9ca'),\n   ObjectId('5e65995cbec0480af8aee959'),\n   ObjectId('5e65996cbec0480af8aee9cf'),\n   ObjectId('5e65996cbec0480af8aee9d2'),\n   ObjectId('5e65996cbec0480af8aee9d5'),\n   ObjectId('5e65996cbec0480af8aee9d8'),\n   ObjectId('5e65996cbec0480af8aee9db'),\n   ObjectId('5e65996cbec0480af8aee9de'),\n   ObjectId('5e65996cbec0480af8aee9e1')]}]"
     },
     "execution_count": 15,
     "metadata": {},
     "output_type": "execute_result"
    }
   ],
   "source": [
    "relatedwords_db.all"
   ]
  },
  {
   "cell_type": "markdown",
   "metadata": {},
   "source": [
    "## 概要を保存する"
   ]
  },
  {
   "cell_type": "code",
   "execution_count": 17,
   "metadata": {},
   "outputs": [
    {
     "data": {
      "text/plain": "<pymongo.results.UpdateResult at 0x7f7d7823c740>"
     },
     "execution_count": 17,
     "metadata": {},
     "output_type": "execute_result"
    }
   ],
   "source": [
    "abst_db.insert(\n",
    "    keyword_db.find_object(title),\n",
    "    abstruct\n",
    ")"
   ]
  },
  {
   "cell_type": "code",
   "execution_count": 18,
   "metadata": {},
   "outputs": [
    {
     "data": {
      "text/plain": "'[{\\'_id\\': ObjectId(\\'5e65995bbec0480af8aee950\\'), \\'contents\\': [[\\'三枝明那（さえぐさ あきな）とは、いちから株式会社が運営する「にじさんじ」所属のバーチャルライバーである。\\'], {\\'content\\': [\\'概要\\'], \\'tag\\': \\'h2\\', \\'attrs\\': {\\'id\\': \\'h2-1\\'}, \\'type\\': \\'element\\'}, [{\\'content\\': [{\\'content\\': [{\\'content\\': [{\\'content\\': [\\'バーチャルライバー\\'], \\'tag\\': \\'th\\', \\'attrs\\': {\\'colspan\\': \\'2\\', \\'style\\': \"border: 1px solid #fff; background: url(\\'https://dic.nicovideo.jp/oekaki/823641.png\\') center; color: #000; padding: 1px;\"}, \\'type\\': \\'element\\'}], \\'tag\\': \\'tr\\', \\'attrs\\': None, \\'type\\': \\'eleme...'"
     },
     "execution_count": 18,
     "metadata": {},
     "output_type": "execute_result"
    }
   ],
   "source": [
    "str(abst_db.all)[:500] + \"...\""
   ]
  },
  {
   "cell_type": "markdown",
   "metadata": {},
   "source": [
    "## 記事をセクションごと保存する"
   ]
  },
  {
   "cell_type": "code",
   "execution_count": 19,
   "metadata": {},
   "outputs": [],
   "source": [
    "for sec in sections:\n",
    "    content_db.insert(\n",
    "        keyword_db.find_object(title),\n",
    "        sec.titles,\n",
    "        sec.contents)"
   ]
  },
  {
   "cell_type": "code",
   "execution_count": 20,
   "metadata": {},
   "outputs": [
    {
     "data": {
      "text/plain": "[{'_id': ObjectId('5e65997f977db10c8911f8b1'),\n  'doc_title': ObjectId('5e65995bbec0480af8aee950'),\n  'child_titles': ['関連リンク'],\n  'contents': [{'content': [{'content': ['三枝明那 – にじさんじ 公式サイト'],\n      'tag': 'li',\n      'attrs': None,\n      'type': 'element'},\n     {'content': ['三枝明那(さえぐさあきな) - にじさんじ Wiki*'],\n      'tag': 'li',\n      'attrs': None,\n      'type': 'element'}],\n    'tag': 'ul',\n    'attrs': None,\n    'type': 'element'}]},\n {'_id': ObjectId('5e65997f977db10c8911f8b2'),\n  'doc_title': ObjectId('5e65995bbec0480af8aee950'),\n  'child_titles': ['関連項目'],\n  'contents': [{'content': [{'content': ['にじさんじ'],\n      'tag': 'li',\n      'attrs': None,\n      'type': 'element'},\n     {'content': ['ベルモンド・バンデラス（尊敬するライバー）'],\n      'tag': 'li',\n      'attrs': None,\n      'type': 'element'},\n     {'content': ['鈴鹿詩子/海夜叉神/轟京子（歴代のショタコンライバー）'],\n      'tag': 'li',\n      'attrs': None,\n      'type': 'element'},\n     {'content': ['愛園愛美（一緒にデビューした同期生にしてコンビ『紅ズワイガニ』の相方）'],\n      'tag': 'li',\n      'attrs': None,\n      'type': 'element'},\n     {'content': ['青道アカト（煩い同業者繋がり）'],\n      'tag': 'li',\n      'attrs': None,\n      'type': 'element'},\n     {'content': ['Ni-na（同じく目標が日本武道館）'],\n      'tag': 'li',\n      'attrs': None,\n      'type': 'element'},\n     {'content': ['日本武道館'], 'tag': 'li', 'attrs': None, 'type': 'element'},\n     {'content': ['ショタコン/腐男子'], 'tag': 'li', 'attrs': None, 'type': 'element'},\n     {'content': ['堀内健'], 'tag': 'li', 'attrs': None, 'type': 'element'},\n     {'content': ['紅生姜/赤唐辛子'], 'tag': 'li', 'attrs': None, 'type': 'element'},\n     {'content': ['バーチャルYouTuber'],\n      'tag': 'li',\n      'attrs': None,\n      'type': 'element'},\n     {'content': ['いちから株式会社'], 'tag': 'li', 'attrs': None, 'type': 'element'}],\n    'tag': 'ul',\n    'attrs': None,\n    'type': 'element'}]}]"
     },
     "execution_count": 20,
     "metadata": {},
     "output_type": "execute_result"
    }
   ],
   "source": [
    "content_db.all[:2]"
   ]
  }
 ],
 "metadata": {
  "kernelspec": {
   "display_name": "Python 3",
   "language": "python",
   "name": "python3"
  },
  "language_info": {
   "codemirror_mode": {
    "name": "ipython",
    "version": 3
   },
   "file_extension": ".py",
   "mimetype": "text/x-python",
   "name": "python",
   "nbconvert_exporter": "python",
   "pygments_lexer": "ipython3",
   "version": "3.8.1-final"
  }
 },
 "nbformat": 4,
 "nbformat_minor": 4
}