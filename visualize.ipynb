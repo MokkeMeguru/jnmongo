{
 "nbformat": 4,
 "nbformat_minor": 2,
 "metadata": {
  "language_info": {
   "name": "python",
   "codemirror_mode": {
    "name": "ipython",
    "version": 3
   },
   "version": "3.8.1-final"
  },
  "orig_nbformat": 2,
  "file_extension": ".py",
  "mimetype": "text/x-python",
  "name": "python",
  "npconvert_exporter": "python",
  "pygments_lexer": "ipython3",
  "version": 3,
  "kernelspec": {
   "name": "python38164bitvenvvenv1757a4db17b848838d30fc45aa334645",
   "display_name": "Python 3.8.1 64-bit ('venv': venv)"
  }
 },
 "cells": [
  {
   "cell_type": "markdown",
   "metadata": {},
   "source": [
    "# 記事同士の関連の視覚化\n",
    "記事同士の関連を見つけるためには、\n",
    "\n",
    "1. 本文全体からキーワードを取り出して比較する\n",
    "2. 記事情報を頼りにリンクとなりそうなキーワードを取り出して比較する\n",
    "\n",
    "というようなものがあります。今回は簡単に、関連キーワードを用いてネットワークを作ってみます。\n"
   ]
  },
  {
   "cell_type": "code",
   "execution_count": 22,
   "metadata": {},
   "outputs": [],
   "source": [
    "from parse import json_parser\n",
    "from service import utils, related_words, absts, contents\n",
    "\n",
    "from boundary.absts import Abst\n",
    "from boundary.contents import Content\n",
    "from boundary.dockeywords import DocKeywords\n",
    "from boundary.keywords import Keyword\n",
    "from boundary.related_words import Related_Words\n",
    "from service.contents import SectionTree\n",
    "\n",
    "from pymongo import MongoClient\n",
    "from bson.objectid import ObjectId\n",
    "from getpass import getpass\n",
    "from pathlib import Path\n",
    "import pandas as pd\n",
    "\n",
    "from typing import List, Union, Tuple, Dict"
   ]
  },
  {
   "cell_type": "code",
   "execution_count": 8,
   "metadata": {},
   "outputs": [],
   "source": [
    "class ParsedArticle:\n",
    "    def __init__(self, file: Path):\n",
    "        self.raw_data = json_parser.read_json(file)\n",
    "        self.title = utils.get_element(self.raw_data, \"title\")\n",
    "        self.title_head = utils.get_element(self.raw_data, \"title-head\")\n",
    "        self.keywords = utils.get_element(\n",
    "            self.raw_data, \"keywords\", \n",
    "            message=\"this article has no keywords\")       \n",
    "        self.raw_related_words, self.related_words = related_words.extract_item(self.raw_data)\n",
    "        self.related_words_len = len(self.related_words)\n",
    "        self.abstruct, self.sections = self.parse_article()\n",
    "\n",
    "    def parse_article(self):\n",
    "        article = utils.get_element(\n",
    "            self.raw_data, \"article\", message=\"this article has no body\")\n",
    "        import copy\n",
    "        abstruct, _ ,left = absts.extract_abstruct(article)\n",
    "        sections, _= contents.SectionParser().parse(left)\n",
    "        return abstruct, sections"
   ]
  },
  {
   "cell_type": "code",
   "execution_count": 9,
   "metadata": {},
   "outputs": [],
   "source": [
    "class Boundary:\n",
    "    def __init__(self, \n",
    "            username: str=\"root\", password: str =\"passwd\", \n",
    "            host: str=\"127.0.0.1\", port: int=27017):\n",
    "        client = MongoClient(host=host, \n",
    "            port=port, username=username, password=password)\n",
    "        self.abst_db = Abst(client)\n",
    "        self.content_db = Content(client)\n",
    "        self.keyword_db = Keyword(client)\n",
    "        self.dockeywords_db = DocKeywords(client)\n",
    "        self.relatedwords_db = Related_Words(client)\n",
    "\n",
    "    def reset(self):\n",
    "        self.abst_db.reset()\n",
    "        self.content_db.reset()\n",
    "        self.keyword_db.reset()\n",
    "        self.dockeywords_db.reset()\n",
    "        self.relatedwords_db.reset()\n",
    "\n",
    "    def insert_keyword(\n",
    "        self, keyword: Union[str, List[str], Tuple[str]]):\n",
    "        if type(keyword) is str:\n",
    "            self.keyword_db.insert(keyword)\n",
    "        elif type(keyword) in [list, tuple]:\n",
    "            [self.keyword_db.insert(k) for k in keyword]\n",
    "        else:\n",
    "            raise NotImplementedError()\n",
    "\n",
    "    def get_keyword(self, keyword: Union[str, List[str]]):\n",
    "        if type(keyword) is str:\n",
    "            return self.keyword_db.find_object(keyword)\n",
    "        elif type(keyword) is list:\n",
    "            return [self.keyword_db.find_object(k) \n",
    "                    for k in keyword]\n",
    "        else:\n",
    "            raise NotImplementedError()\n",
    "\n",
    "    def recover_keyword(\n",
    "        self, \n",
    "        keyword_id: Union[ObjectId, List[ObjectId]]):\n",
    "        if type(keyword) is ObjectId:\n",
    "            return self.keyword_db.get_by_id(keyword_id)\n",
    "        elif type(keyword) is list:\n",
    "            return [self.keywrod_db.get_by_id(i) for i in keyword]\n",
    "        else:\n",
    "            raise NotImplementedError()\n",
    "    \n",
    "    def insert_dockeywords(\n",
    "        self, title: Union[str, ObjectId],\n",
    "        keywords: Union[List[str], List[ObjectId]]):\n",
    "        if type(title) is str:\n",
    "            title = self.get_keyword(title)\n",
    "        if len(keywords) != 0 and type(keywords[0]) is str:\n",
    "            keywords = self.get_keyword(keywords)\n",
    "        self.dockeywords_db.insert(title, keywords)\n",
    "\n",
    "    def insert_relatedwords(\n",
    "        self, title: Union[str, ObjectId],\n",
    "        related_words: Union[List[str], List[ObjectId]],\n",
    "        raw_related_words: Dict):\n",
    "        if type(title) is str:\n",
    "            title = self.get_keyword(title)\n",
    "        if len(related_words) != 0 and type(related_words[0]) is str:\n",
    "            related_words = self.get_keyword(related_words)\n",
    "        self.relatedwords_db.insert(\n",
    "            title,\n",
    "            related_words,\n",
    "            raw_related_words)\n",
    "    def insert_abstruct(\n",
    "        self, title: Union[str, ObjectId], abstruct: Dict):\n",
    "        if type(title) is str:\n",
    "            title = self.get_keyword(title)\n",
    "        self.abst_db.insert(title, abstruct)\n",
    "\n",
    "    def insert_sections(\n",
    "        self, title: Union[str, ObjectId], \n",
    "        sections: List[SectionTree]):\n",
    "        if type(title) is str:\n",
    "            title = self.get_keyword(title)\n",
    "        for sec in sections:\n",
    "            self.content_db.insert(\n",
    "                title,\n",
    "                sec.titles,\n",
    "                sec.contents)\n",
    "    \n",
    "    def insert_article(\n",
    "        self, article: ParsedArticle):\n",
    "        self.insert_keyword(article.title)\n",
    "        self.insert_keyword(article.related_words)\n",
    "        self.insert_keyword(article.keywords)\n",
    "        for sec in article.sections:\n",
    "            self.insert_keyword(sec.titles)\n",
    "        self.insert_dockeywords(\n",
    "            article.title,\n",
    "            article.keywords)\n",
    "        self.insert_relatedwords(\n",
    "            article.title,\n",
    "            article.related_words,\n",
    "            article.raw_related_words)\n",
    "        self.insert_abstruct(\n",
    "            article.title,\n",
    "            article.abstruct)\n",
    "        self.insert_sections(\n",
    "            article.title,\n",
    "            article.sections)\n",
    "\n",
    "    @property\n",
    "    def info(self):\n",
    "        return {\n",
    "            \"abst\": len(self.abst_db),\n",
    "            \"content\": len(self.content_db),\n",
    "            \"keyword\": len(self.keyword_db),\n",
    "            \"dockeywords\": len(self.dockeywords_db),\n",
    "            \"relatedwords\": len(self.relatedwords_db)}\n",
    "    def __repr__(self):\n",
    "        return str(self.info)\n",
    "    "
   ]
  },
  {
   "cell_type": "code",
   "execution_count": 10,
   "metadata": {},
   "outputs": [],
   "source": [
    "username=\"root\"\n",
    "password=getpass()"
   ]
  },
  {
   "cell_type": "code",
   "execution_count": 14,
   "metadata": {},
   "outputs": [
    {
     "data": {
      "text/html": "<div>\n<style scoped>\n    .dataframe tbody tr th:only-of-type {\n        vertical-align: middle;\n    }\n\n    .dataframe tbody tr th {\n        vertical-align: top;\n    }\n\n    .dataframe thead th {\n        text-align: right;\n    }\n</style>\n<table border=\"1\" class=\"dataframe\">\n  <thead>\n    <tr style=\"text-align: right;\">\n      <th></th>\n      <th>value</th>\n    </tr>\n  </thead>\n  <tbody>\n    <tr>\n      <th>abst</th>\n      <td>4</td>\n    </tr>\n    <tr>\n      <th>content</th>\n      <td>14</td>\n    </tr>\n    <tr>\n      <th>keyword</th>\n      <td>79</td>\n    </tr>\n    <tr>\n      <th>dockeywords</th>\n      <td>4</td>\n    </tr>\n    <tr>\n      <th>relatedwords</th>\n      <td>4</td>\n    </tr>\n  </tbody>\n</table>\n</div>",
      "text/plain": "              value\nabst              4\ncontent          14\nkeyword          79\ndockeywords       4\nrelatedwords      4"
     },
     "execution_count": 14,
     "metadata": {},
     "output_type": "execute_result"
    }
   ],
   "source": [
    "bound = Boundary(username=username, password=password)\n",
    "pd.DataFrame(bound.info.values(), index=bound.info.keys(), columns=[\"value\"])"
   ]
  },
  {
   "cell_type": "markdown",
   "metadata": {},
   "source": [
    "まず、記事タイトルを取得します。"
   ]
  },
  {
   "cell_type": "code",
   "execution_count": 24,
   "metadata": {},
   "outputs": [
    {
     "name": "stdout",
     "output_type": "stream",
     "text": "['鈴原るる', 'コアラ', '三枝明那', 'エクス・アルビオ'] -> [ObjectId('5e6600e8bec0480af8af1c3b'), ObjectId('5e6600e8bec0480af8af1ce0'), ObjectId('5e6600e8bec0480af8af1d2c'), ObjectId('5e6600e8bec0480af8af1d82')]\n"
    }
   ],
   "source": [
    "titles = []\n",
    "parent = Path(\"./resources/\")\n",
    "for path in parent.glob(\"*.json\"):\n",
    "    art = ParsedArticle(path)\n",
    "    titles.append(art.title)\n",
    "print(\"{} -> {}\".format(titles, bound.get_keyword(titles)))"
   ]
  },
  {
   "cell_type": "markdown",
   "metadata": {},
   "source": [
    "次に、"
   ]
  },
  {
   "cell_type": "code",
   "execution_count": null,
   "metadata": {},
   "outputs": [],
   "source": []
  }
 ]
}