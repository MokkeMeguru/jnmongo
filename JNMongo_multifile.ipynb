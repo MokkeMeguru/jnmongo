{
 "nbformat": 4,
 "nbformat_minor": 2,
 "metadata": {
  "language_info": {
   "name": "python",
   "codemirror_mode": {
    "name": "ipython",
    "version": 3
   },
   "version": "3.8.1-final"
  },
  "orig_nbformat": 2,
  "file_extension": ".py",
  "mimetype": "text/x-python",
  "name": "python",
  "npconvert_exporter": "python",
  "pygments_lexer": "ipython3",
  "version": 3,
  "kernelspec": {
   "name": "python3",
   "display_name": "Python 3"
  }
 },
 "cells": [
  {
   "cell_type": "markdown",
   "execution_count": null,
   "metadata": {},
   "outputs": [],
   "source": [
    "# JNMongo で複数ファイルの処理を行う\n",
    "今回は前回の応用として、複数のファイルを連続的に処理する例を示します。    \n",
    "今回利用させていただいたのは、\n",
    "`resources/words.txt` に一覧されています。   \n",
    "本来はもっと大規模に実験するべきですが、その場合は、IDR の ニコニコ大百科データセットを用いて下さい。"
   ]
  },
  {
   "cell_type": "code",
   "execution_count": 1,
   "metadata": {},
   "outputs": [
    {
     "name": "stdout",
     "output_type": "stream",
     "text": "エクス・アルビオ.json\nコアラ.json\n三枝明那.json\n鈴原るる.json"
    }
   ],
   "source": [
    "!cat resources/words.txt"
   ]
  },
  {
   "cell_type": "markdown",
   "execution_count": null,
   "metadata": {},
   "outputs": [],
   "source": [
    "## 処理をファイル名を引数にした関数に変える\n",
    "前回は１ファイルについて処理をしていましたが、今回は複数ファイルを対象にしています。    \n",
    "なので、これをファイルに対して不変の処理に処理に変える必要があります。"
   ]
  },
  {
   "cell_type": "code",
   "execution_count": 2,
   "metadata": {},
   "outputs": [],
   "source": [
    "import pandas as pd\n",
    "from parse import json_parser\n",
    "from pathlib import Path\n",
    "from typing import List, Dict\n",
    "from service import utils, related_words, absts, contents"
   ]
  },
  {
   "cell_type": "markdown",
   "execution_count": null,
   "metadata": {},
   "outputs": [],
   "source": [
    "今回は\n",
    "\n",
    "1. データを構造体の形式に持ち込む\n",
    "2. その構造体についてMongoDBへ保存する\n",
    "\n",
    "という手順で処理を行います。\n",
    "Pythonで、構造体を定義する場合は辞書やクラスが考えられますが、今回はクラスを用います。"
   ]
  },
  {
   "cell_type": "code",
   "execution_count": 3,
   "metadata": {},
   "outputs": [],
   "source": [
    "class ParsedArticle:\n",
    "    def __init__(self, file: Path):\n",
    "        self.raw_data = json_parser.read_json(file)\n",
    "        self.title = utils.get_element(self.raw_data, \"title\")\n",
    "        self.title_head = utils.get_element(self.raw_data, \"title-head\")\n",
    "        self.keywords = utils.get_element(\n",
    "            self.raw_data, \"keywords\", \n",
    "            message=\"this article has no keywords\")       \n",
    "        self.raw_related_words, self.related_words = related_words.extract_item(self.raw_data)\n",
    "        self.related_words_len = len(self.related_words)\n",
    "        self.abstruct, self.sections = self.parse_article()\n",
    "\n",
    "    def parse_article(self):\n",
    "        article = utils.get_element(\n",
    "            self.raw_data, \"article\", message=\"this article has no body\")\n",
    "        import copy\n",
    "        abstruct, _ ,left = absts.extract_abstruct(article)\n",
    "        sections, _= contents.SectionParser().parse(left)\n",
    "        return abstruct, sections"
   ]
  },
  {
   "cell_type": "markdown",
   "execution_count": null,
   "metadata": {},
   "outputs": [],
   "source": [
    "クラスが定義できたので、こちらを実験し、前回と同様の処理が行えていることを確認します。"
   ]
  },
  {
   "cell_type": "code",
   "execution_count": 4,
   "metadata": {},
   "outputs": [],
   "source": [
    "sample_art = ParsedArticle(Path(\"./resources/三枝明那.json\"))"
   ]
  },
  {
   "cell_type": "code",
   "execution_count": 5,
   "metadata": {},
   "outputs": [
    {
     "data": {
      "text/html": "<div>\n<style scoped>\n    .dataframe tbody tr th:only-of-type {\n        vertical-align: middle;\n    }\n\n    .dataframe tbody tr th {\n        vertical-align: top;\n    }\n\n    .dataframe thead th {\n        text-align: right;\n    }\n</style>\n<table border=\"1\" class=\"dataframe\">\n  <thead>\n    <tr style=\"text-align: right;\">\n      <th></th>\n      <th>value</th>\n    </tr>\n  </thead>\n  <tbody>\n    <tr>\n      <th>title</th>\n      <td>三枝明那</td>\n    </tr>\n    <tr>\n      <th>title-head</th>\n      <td>三枝明那とは (サエグサアキナとは) [単語記事] - ニコニコ大百科</td>\n    </tr>\n    <tr>\n      <th>related-words</th>\n      <td>[⚖アンジュ・カトリーナ, 「にじさんじ」2019年上期加入ライバー, 📷瀬戸美夜子, 青道...</td>\n    </tr>\n    <tr>\n      <th>related-words_raw</th>\n      <td>[[{'content': ['にじさんじ', 'ベルモンド・バンデラス（尊敬するライバー）...</td>\n    </tr>\n    <tr>\n      <th>#related-words</th>\n      <td>32</td>\n    </tr>\n    <tr>\n      <th>keywords</th>\n      <td>[三枝明那, サエグサアキナ, にじさんじ, ショタコン, エクス・アルビオ, コラボ, デ...</td>\n    </tr>\n    <tr>\n      <th>abstruct</th>\n      <td>[['三枝明那（さえぐさ あきな）とは、いちから株式会社が運営する「にじさんじ」所属のバーチ...</td>\n    </tr>\n    <tr>\n      <th>section_keys</th>\n      <td>[('関連リンク',), ('関連項目',), ('脚注',)]</td>\n    </tr>\n    <tr>\n      <th>section_sample(key)</th>\n      <td>(関連リンク,)</td>\n    </tr>\n    <tr>\n      <th>section_sample(value)</th>\n      <td>({'content': [{'content': ['三枝明那 – にじさんじ 公式サイト...</td>\n    </tr>\n  </tbody>\n</table>\n</div>",
      "text/plain": "                                                                   value\ntitle                                                               三枝明那\ntitle-head                           三枝明那とは (サエグサアキナとは) [単語記事] - ニコニコ大百科\nrelated-words          [⚖アンジュ・カトリーナ, 「にじさんじ」2019年上期加入ライバー, 📷瀬戸美夜子, 青道...\nrelated-words_raw      [[{'content': ['にじさんじ', 'ベルモンド・バンデラス（尊敬するライバー）...\n#related-words                                                        32\nkeywords               [三枝明那, サエグサアキナ, にじさんじ, ショタコン, エクス・アルビオ, コラボ, デ...\nabstruct               [['三枝明那（さえぐさ あきな）とは、いちから株式会社が運営する「にじさんじ」所属のバーチ...\nsection_keys                            [('関連リンク',), ('関連項目',), ('脚注',)]\nsection_sample(key)                                             (関連リンク,)\nsection_sample(value)  ({'content': [{'content': ['三枝明那 – にじさんじ 公式サイト..."
     },
     "execution_count": 5,
     "metadata": {},
     "output_type": "execute_result"
    }
   ],
   "source": [
    "def view_article(art: ParsedArticle):\n",
    "    data = {}\n",
    "    data[\"title\"] = art.title\n",
    "    data[\"title-head\"] = art.title_head\n",
    "    data[\"related-words\"] = art.related_words\n",
    "    data[\"related-words_raw\"] = art.raw_related_words\n",
    "    data[\"#related-words\"] = art.related_words_len\n",
    "    data[\"keywords\"] = art.keywords\n",
    "    data[\"abstruct\"] = str(art.abstruct)\n",
    "    data[\"section_keys\"] = [str(sec.titles) for sec in art.sections]\n",
    "    data[\"section_sample(key)\"] = art.sections[0].titles\n",
    "    data[\"section_sample(value)\"] = art.sections[0].contents\n",
    "    return pd.DataFrame(data.values(), index=data.keys(), columns=[\"value\"])\n",
    "view_article(sample_art)"
   ]
  },
  {
   "cell_type": "markdown",
   "execution_count": null,
   "metadata": {},
   "outputs": [],
   "source": [
    "# "
   ]
  },
  {
   "cell_type": "markdown",
   "execution_count": null,
   "metadata": {},
   "outputs": [],
   "source": [
    "他のファイルでも実行してみましょう。"
   ]
  },
  {
   "cell_type": "code",
   "execution_count": 6,
   "metadata": {},
   "outputs": [
    {
     "data": {
      "text/html": "<div>\n<style scoped>\n    .dataframe tbody tr th:only-of-type {\n        vertical-align: middle;\n    }\n\n    .dataframe tbody tr th {\n        vertical-align: top;\n    }\n\n    .dataframe thead th {\n        text-align: right;\n    }\n</style>\n<table border=\"1\" class=\"dataframe\">\n  <thead>\n    <tr style=\"text-align: right;\">\n      <th></th>\n      <th>value</th>\n    </tr>\n  </thead>\n  <tbody>\n    <tr>\n      <th>title</th>\n      <td>エクス・アルビオ</td>\n    </tr>\n    <tr>\n      <th>title-head</th>\n      <td>エクス・アルビオとは (エクスアルビオとは) [単語記事] - ニコニコ大百科</td>\n    </tr>\n    <tr>\n      <th>related-words</th>\n      <td>[🌖夢月ロア, にじさんじ, 「にじさんじ」2019年上期加入ライバー, 🐺童田明治, ⚖️...</td>\n    </tr>\n    <tr>\n      <th>related-words_raw</th>\n      <td>[[{'content': ['バーチャルYouTuber', 'にじさんじ', 'いちから...</td>\n    </tr>\n    <tr>\n      <th>#related-words</th>\n      <td>30</td>\n    </tr>\n    <tr>\n      <th>keywords</th>\n      <td>[エクス・アルビオ, エクスアルビオ, にじさんじ, クズ, コラボ, バー, 英雄, ゲーム]</td>\n    </tr>\n    <tr>\n      <th>abstruct</th>\n      <td>[['エクス・アルビオとは、いちから株式会社が運営する「にじさんじ」所属のバーチャルライバー...</td>\n    </tr>\n    <tr>\n      <th>section_keys</th>\n      <td>[('関連リンク',), ('関連項目',)]</td>\n    </tr>\n    <tr>\n      <th>section_sample(key)</th>\n      <td>(関連リンク,)</td>\n    </tr>\n    <tr>\n      <th>section_sample(value)</th>\n      <td>({'content': [{'content': ['にじさんじ公式の紹介'], 'tag...</td>\n    </tr>\n  </tbody>\n</table>\n</div>",
      "text/plain": "                                                                   value\ntitle                                                           エクス・アルビオ\ntitle-head                       エクス・アルビオとは (エクスアルビオとは) [単語記事] - ニコニコ大百科\nrelated-words          [🌖夢月ロア, にじさんじ, 「にじさんじ」2019年上期加入ライバー, 🐺童田明治, ⚖️...\nrelated-words_raw      [[{'content': ['バーチャルYouTuber', 'にじさんじ', 'いちから...\n#related-words                                                        30\nkeywords                [エクス・アルビオ, エクスアルビオ, にじさんじ, クズ, コラボ, バー, 英雄, ゲーム]\nabstruct               [['エクス・アルビオとは、いちから株式会社が運営する「にじさんじ」所属のバーチャルライバー...\nsection_keys                                     [('関連リンク',), ('関連項目',)]\nsection_sample(key)                                             (関連リンク,)\nsection_sample(value)  ({'content': [{'content': ['にじさんじ公式の紹介'], 'tag..."
     },
     "execution_count": 6,
     "metadata": {},
     "output_type": "execute_result"
    }
   ],
   "source": [
    "sample_art = ParsedArticle(Path(\"./resources/エクス・アルビオ.json\"))\n",
    "view_article(sample_art)"
   ]
  },
  {
   "cell_type": "code",
   "execution_count": 7,
   "metadata": {},
   "outputs": [
    {
     "data": {
      "text/html": "<div>\n<style scoped>\n    .dataframe tbody tr th:only-of-type {\n        vertical-align: middle;\n    }\n\n    .dataframe tbody tr th {\n        vertical-align: top;\n    }\n\n    .dataframe thead th {\n        text-align: right;\n    }\n</style>\n<table border=\"1\" class=\"dataframe\">\n  <thead>\n    <tr style=\"text-align: right;\">\n      <th></th>\n      <th>value</th>\n    </tr>\n  </thead>\n  <tbody>\n    <tr>\n      <th>title</th>\n      <td>コアラ</td>\n    </tr>\n    <tr>\n      <th>title-head</th>\n      <td>コアラとは (コアラとは) [単語記事] - ニコニコ大百科</td>\n    </tr>\n    <tr>\n      <th>related-words</th>\n      <td>[コアラのマーチ, 多摩動物公園： 飼育・公開中（1頭のみ。2017年5月現在）, 動物の一...</td>\n    </tr>\n    <tr>\n      <th>related-words_raw</th>\n      <td>[[{'content': ['コアラのマーチ', 'オーストラリア', '動物', {'c...</td>\n    </tr>\n    <tr>\n      <th>#related-words</th>\n      <td>8</td>\n    </tr>\n    <tr>\n      <th>keywords</th>\n      <td>[コアラ, オーストラリア, 動物園, 動物, 名古屋市, 子供, マスコット]</td>\n    </tr>\n    <tr>\n      <th>abstruct</th>\n      <td>[['コアラとは、'], {'content': [{'content': ['オーストラリ...</td>\n    </tr>\n    <tr>\n      <th>section_keys</th>\n      <td>[('関連項目',), ('関連リンク',), ('脚注',)]</td>\n    </tr>\n    <tr>\n      <th>section_sample(key)</th>\n      <td>(関連項目,)</td>\n    </tr>\n    <tr>\n      <th>section_sample(value)</th>\n      <td>({'content': [{'content': ['コアラのマーチ'], 'tag': ...</td>\n    </tr>\n  </tbody>\n</table>\n</div>",
      "text/plain": "                                                                   value\ntitle                                                                コアラ\ntitle-head                                コアラとは (コアラとは) [単語記事] - ニコニコ大百科\nrelated-words          [コアラのマーチ, 多摩動物公園： 飼育・公開中（1頭のみ。2017年5月現在）, 動物の一...\nrelated-words_raw      [[{'content': ['コアラのマーチ', 'オーストラリア', '動物', {'c...\n#related-words                                                         8\nkeywords                        [コアラ, オーストラリア, 動物園, 動物, 名古屋市, 子供, マスコット]\nabstruct               [['コアラとは、'], {'content': [{'content': ['オーストラリ...\nsection_keys                            [('関連項目',), ('関連リンク',), ('脚注',)]\nsection_sample(key)                                              (関連項目,)\nsection_sample(value)  ({'content': [{'content': ['コアラのマーチ'], 'tag': ..."
     },
     "execution_count": 7,
     "metadata": {},
     "output_type": "execute_result"
    }
   ],
   "source": [
    "sample_art = ParsedArticle(Path(\"./resources/コアラ.json\"))\n",
    "view_article(sample_art)"
   ]
  },
  {
   "cell_type": "code",
   "execution_count": 8,
   "metadata": {},
   "outputs": [
    {
     "data": {
      "text/html": "<div>\n<style scoped>\n    .dataframe tbody tr th:only-of-type {\n        vertical-align: middle;\n    }\n\n    .dataframe tbody tr th {\n        vertical-align: top;\n    }\n\n    .dataframe thead th {\n        text-align: right;\n    }\n</style>\n<table border=\"1\" class=\"dataframe\">\n  <thead>\n    <tr style=\"text-align: right;\">\n      <th></th>\n      <th>value</th>\n    </tr>\n  </thead>\n  <tbody>\n    <tr>\n      <th>title</th>\n      <td>鈴原るる</td>\n    </tr>\n    <tr>\n      <th>title-head</th>\n      <td>鈴原るるとは (スズハラルルとは) [単語記事] - ニコニコ大百科</td>\n    </tr>\n    <tr>\n      <th>related-words</th>\n      <td>[⚖アンジュ・カトリーナ, 🌖夢月ロア, にじさんじ, 「にじさんじ」2019年上期加入ライ...</td>\n    </tr>\n    <tr>\n      <th>related-words_raw</th>\n      <td>[[{'content': ['にじさんじ', 'いちから株式会社', 'バーチャルYouT...</td>\n    </tr>\n    <tr>\n      <th>#related-words</th>\n      <td>23</td>\n    </tr>\n    <tr>\n      <th>keywords</th>\n      <td>[鈴原るる, スズハラルル, コラボ, でびでび・でびる, にじさんじ, バーチャルライバー...</td>\n    </tr>\n    <tr>\n      <th>abstruct</th>\n      <td>[['（・w・🎀）'], ['鈴原るる（すずはら-）とは、いちから株式会社が運営する「にじさ...</td>\n    </tr>\n    <tr>\n      <th>section_keys</th>\n      <td>[('実況配信したゲーム', 'レトロゲーム'), ('実況配信したゲーム', 'ホラーゲー...</td>\n    </tr>\n    <tr>\n      <th>section_sample(key)</th>\n      <td>(実況配信したゲーム, レトロゲーム)</td>\n    </tr>\n    <tr>\n      <th>section_sample(value)</th>\n      <td>({'content': [{'content': ['超魔界村'], 'tag': 'li...</td>\n    </tr>\n  </tbody>\n</table>\n</div>",
      "text/plain": "                                                                   value\ntitle                                                               鈴原るる\ntitle-head                            鈴原るるとは (スズハラルルとは) [単語記事] - ニコニコ大百科\nrelated-words          [⚖アンジュ・カトリーナ, 🌖夢月ロア, にじさんじ, 「にじさんじ」2019年上期加入ライ...\nrelated-words_raw      [[{'content': ['にじさんじ', 'いちから株式会社', 'バーチャルYouT...\n#related-words                                                        23\nkeywords               [鈴原るる, スズハラルル, コラボ, でびでび・でびる, にじさんじ, バーチャルライバー...\nabstruct               [['（・w・🎀）'], ['鈴原るる（すずはら-）とは、いちから株式会社が運営する「にじさ...\nsection_keys           [('実況配信したゲーム', 'レトロゲーム'), ('実況配信したゲーム', 'ホラーゲー...\nsection_sample(key)                                  (実況配信したゲーム, レトロゲーム)\nsection_sample(value)  ({'content': [{'content': ['超魔界村'], 'tag': 'li..."
     },
     "execution_count": 8,
     "metadata": {},
     "output_type": "execute_result"
    }
   ],
   "source": [
    "sample_art = ParsedArticle(Path(\"./resources/鈴原るる.json\"))\n",
    "view_article(sample_art)"
   ]
  },
  {
   "cell_type": "markdown",
   "metadata": {},
   "source": [
    "## 各データを保存する\n",
    "複数のファイルで正しく処理が出来ることを確認したので、それぞれを保存していきます。   \n",
    "この項目についても効率化を目指して、全てのファイルに対して不変となるような一連の手続きを作ります。"
   ]
  },
  {
   "cell_type": "code",
   "execution_count": 9,
   "metadata": {},
   "outputs": [],
   "source": [
    "from boundary.absts import Abst\n",
    "from boundary.contents import Content\n",
    "from boundary.dockeywords import DocKeywords\n",
    "from boundary.keywords import Keyword\n",
    "from boundary.related_words import Related_Words\n",
    "from service.contents import SectionTree\n",
    "\n",
    "from pymongo import MongoClient\n",
    "from bson.objectid import ObjectId\n",
    "from getpass import getpass\n",
    "\n",
    "from typing import List, Union, Tuple"
   ]
  },
  {
   "cell_type": "code",
   "execution_count": 10,
   "metadata": {},
   "outputs": [],
   "source": [
    "class Boundary:\n",
    "    def __init__(self, \n",
    "            username: str=\"root\", password: str =\"passwd\", \n",
    "            host: str=\"127.0.0.1\", port: int=27017):\n",
    "        client = MongoClient(host=host, \n",
    "            port=port, username=username, password=password)\n",
    "        self.abst_db = Abst(client)\n",
    "        self.content_db = Content(client)\n",
    "        self.keyword_db = Keyword(client)\n",
    "        self.dockeywords_db = DocKeywords(client)\n",
    "        self.relatedwords_db = Related_Words(client)\n",
    "\n",
    "    def reset(self):\n",
    "        self.abst_db.reset()\n",
    "        self.content_db.reset()\n",
    "        self.keyword_db.reset()\n",
    "        self.dockeywords_db.reset()\n",
    "        self.relatedwords_db.reset()\n",
    "\n",
    "    def insert_keyword(\n",
    "        self, keyword: Union[str, List[str], Tuple[str]]):\n",
    "        if type(keyword) is str:\n",
    "            self.keyword_db.insert(keyword)\n",
    "        elif type(keyword) in [list, tuple]:\n",
    "            [self.keyword_db.insert(k) for k in keyword]\n",
    "        else:\n",
    "            raise NotImplementedError()\n",
    "\n",
    "    def get_keyword(self, keyword: Union[str, List[str]]):\n",
    "        if type(keyword) is str:\n",
    "            return self.keyword_db.find_object(keyword)\n",
    "        elif type(keyword) is list:\n",
    "            return [self.keyword_db.find_object(k) \n",
    "                    for k in keyword]\n",
    "        else:\n",
    "            raise NotImplementedError()\n",
    "\n",
    "    def recover_keyword(\n",
    "        self, \n",
    "        keyword_id: Union[ObjectId, List[ObjectId]]):\n",
    "        if type(keyword) is ObjectId:\n",
    "            return self.keyword_db.get_by_id(keyword_id)\n",
    "        elif type(keyword) is list:\n",
    "            return [self.keywrod_db.get_by_id(i) for i in keyword]\n",
    "        else:\n",
    "            raise NotImplementedError()\n",
    "    \n",
    "    def insert_dockeywords(\n",
    "        self, title: Union[str, ObjectId],\n",
    "        keywords: Union[List[str], List[ObjectId]]):\n",
    "        if type(title) is str:\n",
    "            title = self.get_keyword(title)\n",
    "        if len(keywords) != 0 and type(keywords[0]) is str:\n",
    "            keywords = self.get_keyword(keywords)\n",
    "        self.dockeywords_db.insert(title, keywords)\n",
    "\n",
    "    def insert_relatedwords(\n",
    "        self, title: Union[str, ObjectId],\n",
    "        related_words: Union[List[str], List[ObjectId]],\n",
    "        raw_related_words: Dict):\n",
    "        if type(title) is str:\n",
    "            title = self.get_keyword(title)\n",
    "        if len(related_words) != 0 and type(related_words[0]) is str:\n",
    "            related_words = self.get_keyword(related_words)\n",
    "        self.relatedwords_db.insert(\n",
    "            title,\n",
    "            related_words,\n",
    "            raw_related_words)\n",
    "    def insert_abstruct(\n",
    "        self, title: Union[str, ObjectId], abstruct: Dict):\n",
    "        if type(title) is str:\n",
    "            title = self.get_keyword(title)\n",
    "        self.abst_db.insert(title, abstruct)\n",
    "\n",
    "    def insert_sections(\n",
    "        self, title: Union[str, ObjectId], \n",
    "        sections: List[SectionTree]):\n",
    "        if type(title) is str:\n",
    "            title = self.get_keyword(title)\n",
    "        for sec in sections:\n",
    "            self.content_db.insert(\n",
    "                title,\n",
    "                sec.titles,\n",
    "                sec.contents)\n",
    "    \n",
    "    def insert_article(\n",
    "        self, article: ParsedArticle):\n",
    "        self.insert_keyword(article.title)\n",
    "        self.insert_keyword(article.related_words)\n",
    "        self.insert_keyword(article.keywords)\n",
    "        for sec in article.sections:\n",
    "            self.insert_keyword(sec.titles)\n",
    "        self.insert_dockeywords(\n",
    "            article.title,\n",
    "            article.keywords)\n",
    "        self.insert_relatedwords(\n",
    "            article.title,\n",
    "            article.related_words,\n",
    "            article.raw_related_words)\n",
    "        self.insert_abstruct(\n",
    "            article.title,\n",
    "            article.abstruct)\n",
    "        self.insert_sections(\n",
    "            article.title,\n",
    "            article.sections)\n",
    "\n",
    "    @property\n",
    "    def info(self):\n",
    "        return {\n",
    "            \"abst\": len(self.abst_db),\n",
    "            \"content\": len(self.content_db),\n",
    "            \"keyword\": len(self.keyword_db),\n",
    "            \"dockeywords\": len(self.dockeywords_db),\n",
    "            \"relatedwords\": len(self.relatedwords_db)}\n",
    "    def __repr__(self):\n",
    "        return str(self.info)\n",
    "    "
   ]
  },
  {
   "cell_type": "code",
   "execution_count": 11,
   "metadata": {},
   "outputs": [],
   "source": [
    "username=\"root\"\n",
    "password=getpass()"
   ]
  },
  {
   "cell_type": "code",
   "execution_count": 12,
   "metadata": {},
   "outputs": [
    {
     "name": "stdout",
     "output_type": "stream",
     "text": "{'abst': 0, 'content': 0, 'keyword': 0, 'dockeywords': 0, 'relatedwords': 0}\n"
    },
    {
     "data": {
      "text/html": "<div>\n<style scoped>\n    .dataframe tbody tr th:only-of-type {\n        vertical-align: middle;\n    }\n\n    .dataframe tbody tr th {\n        vertical-align: top;\n    }\n\n    .dataframe thead th {\n        text-align: right;\n    }\n</style>\n<table border=\"1\" class=\"dataframe\">\n  <thead>\n    <tr style=\"text-align: right;\">\n      <th></th>\n      <th>value</th>\n    </tr>\n  </thead>\n  <tbody>\n    <tr>\n      <th>abst</th>\n      <td>0</td>\n    </tr>\n    <tr>\n      <th>content</th>\n      <td>0</td>\n    </tr>\n    <tr>\n      <th>keyword</th>\n      <td>0</td>\n    </tr>\n    <tr>\n      <th>dockeywords</th>\n      <td>0</td>\n    </tr>\n    <tr>\n      <th>relatedwords</th>\n      <td>0</td>\n    </tr>\n  </tbody>\n</table>\n</div>",
      "text/plain": "              value\nabst              0\ncontent           0\nkeyword           0\ndockeywords       0\nrelatedwords      0"
     },
     "execution_count": 12,
     "metadata": {},
     "output_type": "execute_result"
    }
   ],
   "source": [
    "bound = Boundary(username=username, password=password)\n",
    "# 初期化\n",
    "bound.reset()\n",
    "\n",
    "# ステータスの表示\n",
    "print(bound)\n",
    "pd.DataFrame(bound.info.values(), index=bound.info.keys(), columns=[\"value\"])"
   ]
  },
  {
   "cell_type": "markdown",
   "metadata": {},
   "source": [
    "サンプルに１ファイルを適用してみます。    \n",
    "JNMongo_startup.ipynb と同様の結果が得られることが確認できます。"
   ]
  },
  {
   "cell_type": "code",
   "execution_count": 13,
   "metadata": {},
   "outputs": [
    {
     "data": {
      "text/html": "<div>\n<style scoped>\n    .dataframe tbody tr th:only-of-type {\n        vertical-align: middle;\n    }\n\n    .dataframe tbody tr th {\n        vertical-align: top;\n    }\n\n    .dataframe thead th {\n        text-align: right;\n    }\n</style>\n<table border=\"1\" class=\"dataframe\">\n  <thead>\n    <tr style=\"text-align: right;\">\n      <th></th>\n      <th>value</th>\n    </tr>\n  </thead>\n  <tbody>\n    <tr>\n      <th>abst</th>\n      <td>1</td>\n    </tr>\n    <tr>\n      <th>content</th>\n      <td>3</td>\n    </tr>\n    <tr>\n      <th>keyword</th>\n      <td>42</td>\n    </tr>\n    <tr>\n      <th>dockeywords</th>\n      <td>1</td>\n    </tr>\n    <tr>\n      <th>relatedwords</th>\n      <td>1</td>\n    </tr>\n  </tbody>\n</table>\n</div>",
      "text/plain": "              value\nabst              1\ncontent           3\nkeyword          42\ndockeywords       1\nrelatedwords      1"
     },
     "execution_count": 13,
     "metadata": {},
     "output_type": "execute_result"
    }
   ],
   "source": [
    "sample_art = ParsedArticle(Path(\"./resources/三枝明那.json\"))\n",
    "bound.insert_article(sample_art)\n",
    "pd.DataFrame(bound.info.values(), index=bound.info.keys(), columns=[\"value\"])"
   ]
  },
  {
   "cell_type": "markdown",
   "metadata": {},
   "source": [
    "それでは複数のファイルにこれを適用してみます。"
   ]
  },
  {
   "cell_type": "code",
   "execution_count": 14,
   "metadata": {},
   "outputs": [
    {
     "data": {
      "text/html": "<div>\n<style scoped>\n    .dataframe tbody tr th:only-of-type {\n        vertical-align: middle;\n    }\n\n    .dataframe tbody tr th {\n        vertical-align: top;\n    }\n\n    .dataframe thead th {\n        text-align: right;\n    }\n</style>\n<table border=\"1\" class=\"dataframe\">\n  <thead>\n    <tr style=\"text-align: right;\">\n      <th></th>\n      <th>value</th>\n    </tr>\n  </thead>\n  <tbody>\n    <tr>\n      <th>abst</th>\n      <td>4</td>\n    </tr>\n    <tr>\n      <th>content</th>\n      <td>14</td>\n    </tr>\n    <tr>\n      <th>keyword</th>\n      <td>79</td>\n    </tr>\n    <tr>\n      <th>dockeywords</th>\n      <td>4</td>\n    </tr>\n    <tr>\n      <th>relatedwords</th>\n      <td>4</td>\n    </tr>\n  </tbody>\n</table>\n</div>",
      "text/plain": "              value\nabst              4\ncontent          14\nkeyword          79\ndockeywords       4\nrelatedwords      4"
     },
     "execution_count": 14,
     "metadata": {},
     "output_type": "execute_result"
    }
   ],
   "source": [
    "bound.reset()\n",
    "parent = Path(\"./resources\")\n",
    "for path in parent.glob(\"*.json\"):\n",
    "    art = ParsedArticle(path)\n",
    "    bound.insert_article(art)\n",
    "pd.DataFrame(bound.info.values(), index=bound.info.keys(), columns=[\"value\"]) "
   ]
  },
  {
   "cell_type": "markdown",
   "metadata": {},
   "source": [
    "以上の手続きを用いることで、大量のファイルについても同様に処理できると思います。    \n",
    "次は、 visualize.ipynb でデータ同士の繋がりを観察してみます。"
   ]
  }
 ]
}