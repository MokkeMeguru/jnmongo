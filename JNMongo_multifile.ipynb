{
 "nbformat": 4,
 "nbformat_minor": 2,
 "metadata": {
  "language_info": {
   "name": "python",
   "codemirror_mode": {
    "name": "ipython",
    "version": 3
   },
   "version": "3.8.1-final"
  },
  "orig_nbformat": 2,
  "file_extension": ".py",
  "mimetype": "text/x-python",
  "name": "python",
  "npconvert_exporter": "python",
  "pygments_lexer": "ipython3",
  "version": 3,
  "kernelspec": {
   "name": "python3",
   "display_name": "Python 3"
  }
 },
 "cells": [
  {
   "cell_type": "markdown",
   "execution_count": null,
   "metadata": {},
   "outputs": [],
   "source": [
    "# JNMongo で複数ファイルの処理を行う\n",
    "今回は前回の応用として、複数のファイルを連続的に処理する例を示します。    \n",
    "今回利用させていただいたのは、\n",
    "`resources/words.txt` に一覧されています。   \n",
    "本来はもっと大規模に実験するべきですが、その場合は、IDR の ニコニコ大百科データセットを用いて下さい。"
   ]
  },
  {
   "cell_type": "code",
   "execution_count": 1,
   "metadata": {},
   "outputs": [
    {
     "name": "stdout",
     "output_type": "stream",
     "text": "エクス・アルビオ.json\nコアラ.json\n三枝明那.json\n鈴原るる.json"
    }
   ],
   "source": [
    "!cat resources/words.txt"
   ]
  },
  {
   "cell_type": "markdown",
   "execution_count": null,
   "metadata": {},
   "outputs": [],
   "source": [
    "## 処理をファイル名を引数にした関数に変える\n",
    "前回は１ファイルについて処理をしていましたが、今回は複数ファイルを対象にしています。    \n",
    "なので、これをファイルに対して不変の処理に処理に変える必要があります。"
   ]
  },
  {
   "cell_type": "code",
   "execution_count": 2,
   "metadata": {},
   "outputs": [],
   "source": [
    "import pandas as pd\n",
    "from parse import json_parser\n",
    "from pathlib import Path\n",
    "from typing import List, Dict\n",
    "from service import utils, related_words, absts, contents"
   ]
  },
  {
   "cell_type": "markdown",
   "execution_count": null,
   "metadata": {},
   "outputs": [],
   "source": [
    "今回は\n",
    "\n",
    "1. データを構造体の形式に持ち込む\n",
    "2. その構造体についてMongoDBへ保存する\n",
    "\n",
    "という手順で処理を行います。\n",
    "Pythonで、構造体を定義する場合は辞書やクラスが考えられますが、今回はクラスを用います。"
   ]
  },
  {
   "cell_type": "code",
   "execution_count": 3,
   "metadata": {},
   "outputs": [],
   "source": [
    "class ParsedArticle:\n",
    "    def __init__(self, file: Path):\n",
    "        self.raw_data = json_parser.read_json(file)\n",
    "        self.title = utils.get_element(self.raw_data, \"title\")\n",
    "        self.title_head = utils.get_element(self.raw_data, \"title-head\")\n",
    "        self.keywords = utils.get_element(\n",
    "            self.raw_data, \"keywords\", \n",
    "            message=\"this article has no keywords\")\n",
    "        self.raw_related_words, self.related_words = related_words.extract_item(self.raw_data)\n",
    "        self.related_words_len = len(self.related_words)\n",
    "        self.abstruct, self.sections = self.parse_article()\n",
    "\n",
    "    def parse_article(self):\n",
    "        article = utils.get_element(\n",
    "            self.raw_data, \"article\", message=\"this article has no body\")\n",
    "        import copy\n",
    "        abstruct, _ ,left = absts.extract_abstruct(article)\n",
    "        sections, _= contents.SectionParser().parse(left)\n",
    "        return abstruct, sections"
   ]
  },
  {
   "cell_type": "markdown",
   "execution_count": null,
   "metadata": {},
   "outputs": [],
   "source": [
    "クラスが定義できたので、こちらを実験し、前回と同様の処理が行えていることを確認します。"
   ]
  },
  {
   "cell_type": "code",
   "execution_count": 4,
   "metadata": {},
   "outputs": [],
   "source": [
    "sample_art = ParsedArticle(Path(\"./resources/三枝明那.json\"))"
   ]
  },
  {
   "cell_type": "code",
   "execution_count": 6,
   "metadata": {},
   "outputs": [
    {
     "data": {
      "text/html": "<div>\n<style scoped>\n    .dataframe tbody tr th:only-of-type {\n        vertical-align: middle;\n    }\n\n    .dataframe tbody tr th {\n        vertical-align: top;\n    }\n\n    .dataframe thead th {\n        text-align: right;\n    }\n</style>\n<table border=\"1\" class=\"dataframe\">\n  <thead>\n    <tr style=\"text-align: right;\">\n      <th></th>\n      <th>value</th>\n    </tr>\n  </thead>\n  <tbody>\n    <tr>\n      <th>title</th>\n      <td>エクス・アルビオ</td>\n    </tr>\n    <tr>\n      <th>title-head</th>\n      <td>エクス・アルビオとは (エクスアルビオとは) [単語記事] - ニコニコ大百科</td>\n    </tr>\n    <tr>\n      <th>related-words</th>\n      <td>[三枝明那（ウザ絡みしてくる先輩）, 🏰御伽原江良, バーチャルYouTuber, ♨️小野...</td>\n    </tr>\n    <tr>\n      <th>related-words_raw</th>\n      <td>[[{'content': ['バーチャルYouTuber', 'にじさんじ', 'いちから...</td>\n    </tr>\n    <tr>\n      <th>#related-words</th>\n      <td>30</td>\n    </tr>\n    <tr>\n      <th>keywords</th>\n      <td>[エクス・アルビオ, エクスアルビオ, にじさんじ, クズ, コラボ, バー, 英雄, ゲーム]</td>\n    </tr>\n    <tr>\n      <th>abstruct</th>\n      <td>[['エクス・アルビオとは、いちから株式会社が運営する「にじさんじ」所属のバーチャルライバー...</td>\n    </tr>\n    <tr>\n      <th>section_keys</th>\n      <td>[('関連リンク',), ('関連項目',)]</td>\n    </tr>\n    <tr>\n      <th>section_sample(key)</th>\n      <td>(関連リンク,)</td>\n    </tr>\n    <tr>\n      <th>section_sample(value)</th>\n      <td>({'content': [{'content': ['にじさんじ公式の紹介'], 'tag...</td>\n    </tr>\n  </tbody>\n</table>\n</div>",
      "text/plain": "                                                                   value\ntitle                                                           エクス・アルビオ\ntitle-head                       エクス・アルビオとは (エクスアルビオとは) [単語記事] - ニコニコ大百科\nrelated-words          [三枝明那（ウザ絡みしてくる先輩）, 🏰御伽原江良, バーチャルYouTuber, ♨️小野...\nrelated-words_raw      [[{'content': ['バーチャルYouTuber', 'にじさんじ', 'いちから...\n#related-words                                                        30\nkeywords                [エクス・アルビオ, エクスアルビオ, にじさんじ, クズ, コラボ, バー, 英雄, ゲーム]\nabstruct               [['エクス・アルビオとは、いちから株式会社が運営する「にじさんじ」所属のバーチャルライバー...\nsection_keys                                     [('関連リンク',), ('関連項目',)]\nsection_sample(key)                                             (関連リンク,)\nsection_sample(value)  ({'content': [{'content': ['にじさんじ公式の紹介'], 'tag..."
     },
     "execution_count": 6,
     "metadata": {},
     "output_type": "execute_result"
    }
   ],
   "source": [
    "def view_article(art: ParsedArticle):\n",
    "    data = {}\n",
    "    data[\"title\"] = art.title\n",
    "    data[\"title-head\"] = art.title_head\n",
    "    data[\"related-words\"] = art.related_words\n",
    "    data[\"related-words_raw\"] = art.raw_related_words\n",
    "    data[\"#related-words\"] = art.related_words_len\n",
    "    data[\"keywords\"] = art.keywords\n",
    "    data[\"abstruct\"] = str(art.abstruct)\n",
    "    data[\"section_keys\"] = [str(sec.titles) for sec in art.sections]\n",
    "    data[\"section_sample(key)\"] = art.sections[0].titles\n",
    "    data[\"section_sample(value)\"] = art.sections[0].contents\n",
    "    return pd.DataFrame(data.values(), index=data.keys(), columns=[\"value\"])\n",
    "view_article(sample_art)"
   ]
  },
  {
   "cell_type": "markdown",
   "execution_count": null,
   "metadata": {},
   "outputs": [],
   "source": [
    "# "
   ]
  },
  {
   "cell_type": "markdown",
   "execution_count": null,
   "metadata": {},
   "outputs": [],
   "source": [
    "他のファイルでも実行してみましょう。"
   ]
  },
  {
   "cell_type": "code",
   "execution_count": 7,
   "metadata": {},
   "outputs": [
    {
     "data": {
      "text/html": "<div>\n<style scoped>\n    .dataframe tbody tr th:only-of-type {\n        vertical-align: middle;\n    }\n\n    .dataframe tbody tr th {\n        vertical-align: top;\n    }\n\n    .dataframe thead th {\n        text-align: right;\n    }\n</style>\n<table border=\"1\" class=\"dataframe\">\n  <thead>\n    <tr style=\"text-align: right;\">\n      <th></th>\n      <th>value</th>\n    </tr>\n  </thead>\n  <tbody>\n    <tr>\n      <th>title</th>\n      <td>エクス・アルビオ</td>\n    </tr>\n    <tr>\n      <th>title-head</th>\n      <td>エクス・アルビオとは (エクスアルビオとは) [単語記事] - ニコニコ大百科</td>\n    </tr>\n    <tr>\n      <th>related-words</th>\n      <td>[三枝明那（ウザ絡みしてくる先輩）, 🏰御伽原江良, バーチャルYouTuber, ♨️小野...</td>\n    </tr>\n    <tr>\n      <th>related-words_raw</th>\n      <td>[[{'content': ['バーチャルYouTuber', 'にじさんじ', 'いちから...</td>\n    </tr>\n    <tr>\n      <th>#related-words</th>\n      <td>30</td>\n    </tr>\n    <tr>\n      <th>keywords</th>\n      <td>[エクス・アルビオ, エクスアルビオ, にじさんじ, クズ, コラボ, バー, 英雄, ゲーム]</td>\n    </tr>\n    <tr>\n      <th>abstruct</th>\n      <td>[['エクス・アルビオとは、いちから株式会社が運営する「にじさんじ」所属のバーチャルライバー...</td>\n    </tr>\n    <tr>\n      <th>section_keys</th>\n      <td>[('関連リンク',), ('関連項目',)]</td>\n    </tr>\n    <tr>\n      <th>section_sample(key)</th>\n      <td>(関連リンク,)</td>\n    </tr>\n    <tr>\n      <th>section_sample(value)</th>\n      <td>({'content': [{'content': ['にじさんじ公式の紹介'], 'tag...</td>\n    </tr>\n  </tbody>\n</table>\n</div>",
      "text/plain": "                                                                   value\ntitle                                                           エクス・アルビオ\ntitle-head                       エクス・アルビオとは (エクスアルビオとは) [単語記事] - ニコニコ大百科\nrelated-words          [三枝明那（ウザ絡みしてくる先輩）, 🏰御伽原江良, バーチャルYouTuber, ♨️小野...\nrelated-words_raw      [[{'content': ['バーチャルYouTuber', 'にじさんじ', 'いちから...\n#related-words                                                        30\nkeywords                [エクス・アルビオ, エクスアルビオ, にじさんじ, クズ, コラボ, バー, 英雄, ゲーム]\nabstruct               [['エクス・アルビオとは、いちから株式会社が運営する「にじさんじ」所属のバーチャルライバー...\nsection_keys                                     [('関連リンク',), ('関連項目',)]\nsection_sample(key)                                             (関連リンク,)\nsection_sample(value)  ({'content': [{'content': ['にじさんじ公式の紹介'], 'tag..."
     },
     "execution_count": 7,
     "metadata": {},
     "output_type": "execute_result"
    }
   ],
   "source": [
    "sample_art = ParsedArticle(Path(\"./resources/エクス・アルビオ.json\"))\n",
    "view_article(sample_art)"
   ]
  },
  {
   "cell_type": "code",
   "execution_count": 8,
   "metadata": {},
   "outputs": [
    {
     "data": {
      "text/html": "<div>\n<style scoped>\n    .dataframe tbody tr th:only-of-type {\n        vertical-align: middle;\n    }\n\n    .dataframe tbody tr th {\n        vertical-align: top;\n    }\n\n    .dataframe thead th {\n        text-align: right;\n    }\n</style>\n<table border=\"1\" class=\"dataframe\">\n  <thead>\n    <tr style=\"text-align: right;\">\n      <th></th>\n      <th>value</th>\n    </tr>\n  </thead>\n  <tbody>\n    <tr>\n      <th>title</th>\n      <td>コアラ</td>\n    </tr>\n    <tr>\n      <th>title-head</th>\n      <td>コアラとは (コアラとは) [単語記事] - ニコニコ大百科</td>\n    </tr>\n    <tr>\n      <th>related-words</th>\n      <td>[コアラ(けものフレンズ), 多摩動物公園： 飼育・公開中（1頭のみ。2017年5月現在）,...</td>\n    </tr>\n    <tr>\n      <th>related-words_raw</th>\n      <td>[[{'content': ['コアラのマーチ', 'オーストラリア', '動物', {'c...</td>\n    </tr>\n    <tr>\n      <th>#related-words</th>\n      <td>8</td>\n    </tr>\n    <tr>\n      <th>keywords</th>\n      <td>[コアラ, オーストラリア, 動物園, 動物, 名古屋市, 子供, マスコット]</td>\n    </tr>\n    <tr>\n      <th>abstruct</th>\n      <td>[['コアラとは、'], {'content': [{'content': ['オーストラリ...</td>\n    </tr>\n    <tr>\n      <th>section_keys</th>\n      <td>[('関連項目',), ('関連リンク',), ('脚注',)]</td>\n    </tr>\n    <tr>\n      <th>section_sample(key)</th>\n      <td>(関連項目,)</td>\n    </tr>\n    <tr>\n      <th>section_sample(value)</th>\n      <td>({'content': [{'content': ['コアラのマーチ'], 'tag': ...</td>\n    </tr>\n  </tbody>\n</table>\n</div>",
      "text/plain": "                                                                   value\ntitle                                                                コアラ\ntitle-head                                コアラとは (コアラとは) [単語記事] - ニコニコ大百科\nrelated-words          [コアラ(けものフレンズ), 多摩動物公園： 飼育・公開中（1頭のみ。2017年5月現在）,...\nrelated-words_raw      [[{'content': ['コアラのマーチ', 'オーストラリア', '動物', {'c...\n#related-words                                                         8\nkeywords                        [コアラ, オーストラリア, 動物園, 動物, 名古屋市, 子供, マスコット]\nabstruct               [['コアラとは、'], {'content': [{'content': ['オーストラリ...\nsection_keys                            [('関連項目',), ('関連リンク',), ('脚注',)]\nsection_sample(key)                                              (関連項目,)\nsection_sample(value)  ({'content': [{'content': ['コアラのマーチ'], 'tag': ..."
     },
     "execution_count": 8,
     "metadata": {},
     "output_type": "execute_result"
    }
   ],
   "source": [
    "sample_art = ParsedArticle(Path(\"./resources/コアラ.json\"))\n",
    "view_article(sample_art)"
   ]
  },
  {
   "cell_type": "code",
   "execution_count": 12,
   "metadata": {},
   "outputs": [
    {
     "data": {
      "text/html": "<div>\n<style scoped>\n    .dataframe tbody tr th:only-of-type {\n        vertical-align: middle;\n    }\n\n    .dataframe tbody tr th {\n        vertical-align: top;\n    }\n\n    .dataframe thead th {\n        text-align: right;\n    }\n</style>\n<table border=\"1\" class=\"dataframe\">\n  <thead>\n    <tr style=\"text-align: right;\">\n      <th></th>\n      <th>value</th>\n    </tr>\n  </thead>\n  <tbody>\n    <tr>\n      <th>title</th>\n      <td>鈴原るる</td>\n    </tr>\n    <tr>\n      <th>title-head</th>\n      <td>鈴原るるとは (スズハラルルとは) [単語記事] - ニコニコ大百科</td>\n    </tr>\n    <tr>\n      <th>related-words</th>\n      <td>[🏰御伽原江良, バーチャルYouTuber, 🔲レヴィ・エリファ, 🌖夢月ロア, 🧠久遠千...</td>\n    </tr>\n    <tr>\n      <th>related-words_raw</th>\n      <td>[[{'content': ['にじさんじ', 'いちから株式会社', 'バーチャルYouT...</td>\n    </tr>\n    <tr>\n      <th>#related-words</th>\n      <td>23</td>\n    </tr>\n    <tr>\n      <th>keywords</th>\n      <td>[鈴原るる, スズハラルル, コラボ, でびでび・でびる, にじさんじ, バーチャルライバー...</td>\n    </tr>\n    <tr>\n      <th>abstruct</th>\n      <td>[['（・w・🎀）'], ['鈴原るる（すずはら-）とは、いちから株式会社が運営する「にじさ...</td>\n    </tr>\n    <tr>\n      <th>section_keys</th>\n      <td>[('実況配信したゲーム', 'レトロゲーム'), ('実況配信したゲーム', 'ホラーゲー...</td>\n    </tr>\n    <tr>\n      <th>section_sample(key)</th>\n      <td>(実況配信したゲーム, レトロゲーム)</td>\n    </tr>\n    <tr>\n      <th>section_sample(value)</th>\n      <td>({'content': [{'content': ['超魔界村'], 'tag': 'li...</td>\n    </tr>\n  </tbody>\n</table>\n</div>",
      "text/plain": "                                                                   value\ntitle                                                               鈴原るる\ntitle-head                            鈴原るるとは (スズハラルルとは) [単語記事] - ニコニコ大百科\nrelated-words          [🏰御伽原江良, バーチャルYouTuber, 🔲レヴィ・エリファ, 🌖夢月ロア, 🧠久遠千...\nrelated-words_raw      [[{'content': ['にじさんじ', 'いちから株式会社', 'バーチャルYouT...\n#related-words                                                        23\nkeywords               [鈴原るる, スズハラルル, コラボ, でびでび・でびる, にじさんじ, バーチャルライバー...\nabstruct               [['（・w・🎀）'], ['鈴原るる（すずはら-）とは、いちから株式会社が運営する「にじさ...\nsection_keys           [('実況配信したゲーム', 'レトロゲーム'), ('実況配信したゲーム', 'ホラーゲー...\nsection_sample(key)                                  (実況配信したゲーム, レトロゲーム)\nsection_sample(value)  ({'content': [{'content': ['超魔界村'], 'tag': 'li..."
     },
     "execution_count": 12,
     "metadata": {},
     "output_type": "execute_result"
    }
   ],
   "source": [
    "sample_art = ParsedArticle(Path(\"./resources/鈴原るる.json\"))\n",
    "view_article(sample_art)"
   ]
  }
 ]
}